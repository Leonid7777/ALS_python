{
  "nbformat": 4,
  "nbformat_minor": 0,
  "metadata": {
    "colab": {
      "provenance": []
    },
    "kernelspec": {
      "name": "python3",
      "display_name": "Python 3"
    },
    "language_info": {
      "name": "python"
    }
  },
  "cells": [
    {
      "cell_type": "markdown",
      "source": [
        "Solve system:\n",
        "$$\n",
        "\\mathbf{\\|B_k X - T_k\\|_F → min_X}\n",
        "$$\n",
        "where\n",
        "$$\n",
        "\\mathbf{B_k = ⊙_{i != k} factors[i]}\n",
        "$$\n",
        "$$\n",
        "\\mathbf{X = factors[k]}\n",
        "$$\n",
        "$$\n",
        "\\mathbf{T_k} \\textbf{- unfolder k of tensor}\n",
        "$$\n",
        "So we have to solve:\n",
        "$$\n",
        "\\mathbf{B_k^* B_k X = B_k^*T_k}\n",
        "$$\n",
        "$$\n",
        "\\mathbf{B_k^* B_k = \\circ_{i!= k} U_i^T U_i}\n",
        "$$\n",
        "Apply Cholesky\n",
        "$$\n",
        "\\mathbf{L_k^* L_k X = B_k^*T_k}\n",
        "$$\n",
        "$$\n",
        "\\mathbf{L_k^* X = L_k^{-1} B_k^*T_k}\n",
        "$$\n",
        "And then find X\n",
        "\n",
        "In my code we try to calculate fast $U_n^T U_n$ , $\\circ_{i= n-1, n} U_i^T U_i \\ldots$ and next adamar products older than k (BB)\\\n",
        "Values, which smaller than k we calculate in ad_product\\\n",
        "Analogious we calculate B in (B) and hr_product"
      ],
      "metadata": {
        "id": "oZT0u231Di93"
      }
    },
    {
      "cell_type": "code",
      "execution_count": 1,
      "metadata": {
        "id": "-yAxtgXK847s"
      },
      "outputs": [],
      "source": [
        "import numpy as np\n",
        "from scipy import linalg as lg\n",
        "import time"
      ]
    },
    {
      "cell_type": "code",
      "source": [
        "def ALS(tensor, rank, seed=42, tol = 10**(-8), n_iteration = 1000):\n",
        "\n",
        "    dimensions = tensor.shape\n",
        "    len_dim = len(dimensions)\n",
        "\n",
        "    rng = np.random.RandomState(seed)\n",
        "    factors = np.array([rng.rand(dimensions[i], rank) for i in range(len_dim)], dtype=object)\n",
        "\n",
        "    eps = 1.0\n",
        "    it = 0\n",
        "\n",
        "    while eps > tol and it < n_iteration:\n",
        "\n",
        "        eps = 0.0\n",
        "\n",
        "        BB = [factors[len_dim - 1].T @ factors[len_dim - 1]]\n",
        "        B = [factors[len_dim - 1]]\n",
        "        for i in range(1, len_dim - 1):\n",
        "            BB.append((factors[len_dim - 1 - i].T @ factors[len_dim - 1 - i]) * BB[i - 1]) #len_dim - 1\n",
        "            B.append(lg.khatri_rao(factors[len_dim - 1 - i], B[i - 1]))\n",
        "\n",
        "        ad_prod = np.ones((rank, rank))\n",
        "        hr_prod = np.ones((1, rank))\n",
        "\n",
        "        permutat = np.arange(1, len_dim)\n",
        "        permutat = np.append(permutat, 0)\n",
        "\n",
        "        for i in range(len_dim):\n",
        "\n",
        "            if i != 0 and i != len_dim - 1:\n",
        "                BB_i = ad_prod * BB[len_dim - 2 - i]\n",
        "                B_i = lg.khatri_rao(hr_prod, B[len_dim - 2 - i]).T\n",
        "            elif i == 0:\n",
        "                BB_i = BB[len_dim - 2]\n",
        "                B_i = B[len_dim - 2].T\n",
        "            else:\n",
        "                BB_i = ad_prod\n",
        "                B_i = hr_prod.T\n",
        "\n",
        "            L = lg.cholesky(BB_i, lower=True)\n",
        "\n",
        "            B_i = B_i @ np.transpose(tensor, permutat).reshape(-1, dimensions[i])\n",
        "\n",
        "            y = lg.solve_triangular(L, B_i, lower=True)\n",
        "\n",
        "            new_factor = (lg.solve_triangular(L.T, y, lower=False)).T\n",
        "\n",
        "            eps = max(eps, np.linalg.norm(new_factor - factors[i]) / np.linalg.norm(factors[i]))\n",
        "\n",
        "            hr_prod = lg.khatri_rao(hr_prod, new_factor)\n",
        "            ad_prod *= new_factor.T @ new_factor\n",
        "\n",
        "            factors[i] = new_factor\n",
        "\n",
        "            permutat[i], permutat[-1] = permutat[-1], permutat[i]\n",
        "\n",
        "        it += 1\n",
        "\n",
        "    return factors, it"
      ],
      "metadata": {
        "id": "RTXaOK5KBB_b"
      },
      "execution_count": 221,
      "outputs": []
    },
    {
      "cell_type": "code",
      "source": [
        "def fast_ALS_one(tensor, rank, seed=42, tol = 10**(-8), n_iteration = 100):\n",
        "\n",
        "    dimensions = tensor.shape\n",
        "    len_dim = len(dimensions)\n",
        "\n",
        "    rng = np.random.RandomState(seed)\n",
        "    factors = np.array([rng.rand(dimensions[i], rank) for i in range(len_dim)], dtype=object)\n",
        "\n",
        "    eps = 1.0\n",
        "    it = 0\n",
        "\n",
        "    while eps > tol and it < n_iteration:\n",
        "\n",
        "        eps = 0.0\n",
        "\n",
        "        permutat = np.arange(len_dim)\n",
        "\n",
        "        BB = [factors[len_dim - 1].T @ factors[len_dim - 1]]\n",
        "        BT = [tensor.reshape(-1, dimensions[len_dim - 1]) @ factors[len_dim - 1]]\n",
        "\n",
        "        for i in range(1, len_dim - 1):\n",
        "            BB.append((factors[len_dim - 1 - i].T @ factors[len_dim - 1 - i]) * BB[i - 1])\n",
        "\n",
        "            prom = BT[i - 1].reshape(dimensions[:(len_dim - i)]).reshape(-1, dimensions[len_dim - 1 - i])\n",
        "            BT.append(prom @ factors[len_dim - 1 - i])\n",
        "\n",
        "        ad_prod = np.ones((rank, rank))\n",
        "\n",
        "        for i in range(len_dim):\n",
        "\n",
        "            if i != 0 and i != len_dim - 1:\n",
        "                BB_i = ad_prod * BB[len_dim - 2 - i]\n",
        "                small_permute = np.array([i])\n",
        "                small_permute = np.append(small_permute, np.arange(i))\n",
        "                small_dim = np.array(dimensions[i])\n",
        "                small_dim = np.append(small_dim, dimensions[:i])\n",
        "                B_i = np.transpose(BT[len_dim - 2 - i].reshape(dimensions[:(i + 1)]), small_permute)\n",
        "                for j in range(i - 1, -1, -1):\n",
        "                    B_i = B_i.reshape(-1, dimensions[j]) @ factors[j]\n",
        "                    B_i = B_i.reshape(small_dim[:(j + 1)])\n",
        "                    small_permute[0] -= 1\n",
        "                B_i = B_i.reshape(small_dim[0], -1)\n",
        "\n",
        "\n",
        "            elif i == 0:\n",
        "                BB_i = BB[len_dim - 2]\n",
        "                B_i = BT[len_dim - 2]\n",
        "            else:\n",
        "                BB_i = ad_prod\n",
        "\n",
        "                small_permute = np.array([len_dim - 1])\n",
        "                small_permute = np.append(small_permute, np.arange(len_dim - 1))\n",
        "                small_dim = np.array(dimensions[len_dim - 1])\n",
        "                small_dim = np.append(small_dim, dimensions[:len_dim - 1])\n",
        "\n",
        "                B_i = np.transpose(tensor, small_permute)\n",
        "\n",
        "                for j in range(len_dim - 1, 0, -1):\n",
        "                    B_i = B_i.reshape(-1, small_dim[j]) @ factors[j - 1]\n",
        "                    B_i = B_i.reshape(small_dim[:j])\n",
        "                    small_permute[0] -= 1\n",
        "\n",
        "                B_i = B_i.reshape(small_dim[0], -1)\n",
        "\n",
        "            L = lg.cholesky(BB_i, lower=True)\n",
        "\n",
        "            y = lg.solve_triangular(L, B_i.T, lower=True)\n",
        "\n",
        "            new_factor = (lg.solve_triangular(L.T, y, lower=False)).T\n",
        "\n",
        "            eps = max(eps, np.linalg.norm(new_factor - factors[i]) / np.linalg.norm(factors[i]))\n",
        "\n",
        "            ad_prod *= new_factor.T @ new_factor\n",
        "\n",
        "            factors[i] = new_factor\n",
        "\n",
        "            permutat[i], permutat[-1] = permutat[-1], permutat[i]\n",
        "\n",
        "\n",
        "\n",
        "        it += 1\n",
        "\n",
        "\n",
        "    return factors, it"
      ],
      "metadata": {
        "id": "s-DnZ_F11rMD"
      },
      "execution_count": null,
      "outputs": []
    },
    {
      "cell_type": "code",
      "source": [
        "def fast_ALS(tensor, rank, seed=42, tol = 10**(-8), n_iteration = 1000):\n",
        "\n",
        "    dimensions = tensor.shape\n",
        "    len_dim = len(dimensions)\n",
        "\n",
        "    rng = np.random.RandomState(seed)\n",
        "    factors = np.array([rng.rand(dimensions[i], rank) for i in range(len_dim)], dtype=object)\n",
        "\n",
        "    eps = 1.0\n",
        "    it = 0\n",
        "\n",
        "    while eps > tol and it < n_iteration:\n",
        "\n",
        "        eps = 0.0\n",
        "\n",
        "        permutat = np.arange(len_dim)\n",
        "\n",
        "        BB = [factors[len_dim - 1].T @ factors[len_dim - 1]]\n",
        "        prom = np.array(tensor.reshape(-1, dimensions[len_dim - 1]) @ factors[len_dim - 1][:, 0])\n",
        "        for r in range(1, rank):\n",
        "            prom = np.vstack((prom, np.array(tensor.reshape(-1, dimensions[len_dim - 1]) @ factors[len_dim - 1][:, r])))\n",
        "        BT = [prom.T]\n",
        "\n",
        "        for i in range(1, len_dim - 1):\n",
        "            BB.append((factors[len_dim - 1 - i].T @ factors[len_dim - 1 - i]) * BB[i - 1])\n",
        "            prom = np.array(BT[i - 1][:, 0].reshape(dimensions[:(len_dim - i)]).reshape(-1, dimensions[len_dim - 1 - i]) @ factors[len_dim - 1 - i][:, 0])\n",
        "\n",
        "            for r in range(1, rank):\n",
        "                prom = np.vstack((prom, np.array(BT[i - 1][:, r].reshape(dimensions[:(len_dim - i)]).reshape(-1, dimensions[len_dim - 1 - i]) @ factors[len_dim - 1 - i][:, r])))\n",
        "\n",
        "            BT.append(prom.T)\n",
        "\n",
        "        ad_prod = np.ones((rank, rank))\n",
        "\n",
        "        for i in range(len_dim):\n",
        "\n",
        "            if i != 0 and i != len_dim - 1:\n",
        "                BB_i = ad_prod * BB[len_dim - 2 - i]\n",
        "\n",
        "                small_permute = np.array([i])\n",
        "                small_permute = np.append(small_permute, np.arange(i))\n",
        "                small_dim = np.array(dimensions[i])\n",
        "                small_dim = np.append(small_dim, dimensions[:i])\n",
        "\n",
        "                B_i = None\n",
        "                for r in range(rank):\n",
        "                    prom = np.transpose(BT[len_dim - 2 - i][:, r].reshape(dimensions[:(i + 1)]), small_permute)\n",
        "                    for j in range(i - 1, -1, -1):\n",
        "                        prom = prom.reshape(-1, dimensions[j]) @ factors[j][:, r]\n",
        "                        prom = prom.reshape(small_dim[:(j + 1)])\n",
        "                        small_permute[0] -= 1\n",
        "                    if B_i is None:\n",
        "                        B_i = prom\n",
        "                    else:\n",
        "                        B_i = np.vstack((B_i, prom))\n",
        "                    small_permute[0] = i\n",
        "\n",
        "                B_i = B_i.T\n",
        "\n",
        "            elif i == 0:\n",
        "                BB_i = BB[len_dim - 2]\n",
        "                B_i = BT[len_dim - 2]\n",
        "            else:\n",
        "                BB_i = ad_prod\n",
        "\n",
        "                small_permute = np.array([len_dim - 1])\n",
        "                small_permute = np.append(small_permute, np.arange(len_dim - 1))\n",
        "                small_dim = np.array(dimensions[len_dim - 1])\n",
        "                small_dim = np.append(small_dim, dimensions[:len_dim - 1])\n",
        "\n",
        "                B_i = None\n",
        "                for r in range(rank):\n",
        "                    small_permute[0] = len_dim - 1\n",
        "                    prom = np.transpose(tensor, small_permute)\n",
        "                    for j in range(len_dim - 1, 0, -1):\n",
        "                        prom = prom.reshape(-1, small_dim[j]) @ factors[j - 1][:, r]\n",
        "                        prom = prom.reshape(small_dim[:j])\n",
        "                        small_permute[0] -= 1\n",
        "                    if B_i is None:\n",
        "                        B_i = prom\n",
        "                    else:\n",
        "                        B_i = np.vstack((B_i, prom))\n",
        "                B_i = B_i.T\n",
        "\n",
        "            L = lg.cholesky(BB_i, lower=True)\n",
        "\n",
        "            y = lg.solve_triangular(L, B_i.T, lower=True)\n",
        "\n",
        "            new_factor = (lg.solve_triangular(L.T, y, lower=False)).T\n",
        "\n",
        "            eps = max(eps, np.linalg.norm(new_factor - factors[i]) / np.linalg.norm(factors[i]))\n",
        "\n",
        "            ad_prod *= new_factor.T @ new_factor\n",
        "\n",
        "            factors[i] = new_factor\n",
        "\n",
        "            permutat[i], permutat[-1] = permutat[-1], permutat[i]\n",
        "\n",
        "        it += 1\n",
        "\n",
        "    return factors, it"
      ],
      "metadata": {
        "id": "krPdAwWjeo3a"
      },
      "execution_count": 222,
      "outputs": []
    },
    {
      "cell_type": "markdown",
      "source": [
        "# Create Tensor"
      ],
      "metadata": {
        "id": "cCAAOZMKBI0m"
      }
    },
    {
      "cell_type": "code",
      "source": [
        "sizes = np.array((10, 11, 12, 13, 14))\n",
        "T = np.zeros(sizes)\n",
        "for i in range(sizes[0]):\n",
        "    for j in range(sizes[1]):\n",
        "        for k in range(sizes[2]):\n",
        "            for m in range(sizes[3]):\n",
        "                for f in range(sizes[4]):\n",
        "                    T[i, j, k, m, f] = np.sin(i + j + k + m + f)"
      ],
      "metadata": {
        "id": "tktBcuCUBNcN"
      },
      "execution_count": 220,
      "outputs": []
    },
    {
      "cell_type": "markdown",
      "source": [
        "# Run fast_ALS"
      ],
      "metadata": {
        "id": "nvtiMs-bBPgN"
      }
    },
    {
      "cell_type": "code",
      "source": [
        "rank = 5\n",
        "start_time = time.time()\n",
        "factors, it = fast_ALS(T, rank)\n",
        "print(time.time() - start_time)"
      ],
      "metadata": {
        "colab": {
          "base_uri": "https://localhost:8080/"
        },
        "id": "MYnB8y3mBN03",
        "outputId": "e09b1633-eefe-4197-fed6-3325fe997ae6"
      },
      "execution_count": 232,
      "outputs": [
        {
          "output_type": "stream",
          "name": "stdout",
          "text": [
            "0.13037514686584473\n"
          ]
        }
      ]
    },
    {
      "cell_type": "code",
      "source": [
        "len_dim = len(sizes)\n",
        "sweep_l = np.ones(rank).reshape(1, -1)\n",
        "\n",
        "for j in range(len_dim):\n",
        "    sweep_l = lg.khatri_rao(sweep_l, factors[j])\n",
        "\n",
        "print(np.linalg.norm(np.sum(sweep_l, axis=1) - T.reshape(-1,)) / np.linalg.norm(T.reshape(-1,)))"
      ],
      "metadata": {
        "colab": {
          "base_uri": "https://localhost:8080/"
        },
        "id": "iIfol7o8BUgH",
        "outputId": "187bd39a-3ffd-4e3f-e541-3625a78170c6"
      },
      "execution_count": 233,
      "outputs": [
        {
          "output_type": "stream",
          "name": "stdout",
          "text": [
            "3.219549474212735e-10\n"
          ]
        }
      ]
    },
    {
      "cell_type": "markdown",
      "source": [
        "# Run ALS"
      ],
      "metadata": {
        "id": "okcOUPIXZ8YK"
      }
    },
    {
      "cell_type": "code",
      "source": [
        "rank = 5\n",
        "start_time = time.time()\n",
        "factors, it = ALS(T, rank)\n",
        "print(time.time() - start_time)"
      ],
      "metadata": {
        "id": "jdBEgZ7eAdW-",
        "colab": {
          "base_uri": "https://localhost:8080/"
        },
        "outputId": "dcb1b29e-4ac9-455c-9500-f99d49abab64"
      },
      "execution_count": 234,
      "outputs": [
        {
          "output_type": "stream",
          "name": "stdout",
          "text": [
            "0.26180052757263184\n"
          ]
        }
      ]
    },
    {
      "cell_type": "code",
      "source": [
        "len_dim = len(sizes)\n",
        "sweep_l = np.ones(rank).reshape(1, -1)\n",
        "\n",
        "for j in range(len_dim):\n",
        "    sweep_l = lg.khatri_rao(sweep_l, factors[j])\n",
        "\n",
        "print(np.linalg.norm(np.sum(sweep_l, axis=1) - T.reshape(-1,)) / np.linalg.norm(T.reshape(-1,)))"
      ],
      "metadata": {
        "colab": {
          "base_uri": "https://localhost:8080/"
        },
        "id": "pkCxdZPvZ4iN",
        "outputId": "0c711522-a328-43e9-ef34-1142a790e51b"
      },
      "execution_count": 235,
      "outputs": [
        {
          "output_type": "stream",
          "name": "stdout",
          "text": [
            "3.24866474547224e-10\n"
          ]
        }
      ]
    },
    {
      "cell_type": "code",
      "source": [],
      "metadata": {
        "id": "j2dPk9t8Z6aD"
      },
      "execution_count": null,
      "outputs": []
    }
  ]
}