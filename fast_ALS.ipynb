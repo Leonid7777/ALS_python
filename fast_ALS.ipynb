{
  "nbformat": 4,
  "nbformat_minor": 0,
  "metadata": {
    "colab": {
      "provenance": []
    },
    "kernelspec": {
      "name": "python3",
      "display_name": "Python 3"
    },
    "language_info": {
      "name": "python"
    }
  },
  "cells": [
    {
      "cell_type": "markdown",
      "source": [
        "Solve system:\n",
        "$$\n",
        "\\mathbf{\\|B_k X - T_k\\|_F → min_X}\n",
        "$$\n",
        "where\n",
        "$$\n",
        "\\mathbf{B_k = ⊙_{i != k} factors[i]}\n",
        "$$\n",
        "$$\n",
        "\\mathbf{X = factors[k]}\n",
        "$$\n",
        "$$\n",
        "\\mathbf{T_k} \\textbf{- unfolder k of tensor}\n",
        "$$\n",
        "So we have to solve:\n",
        "$$\n",
        "\\mathbf{B_k^* B_k X = B_k^*T_k}\n",
        "$$\n",
        "$$\n",
        "\\mathbf{B_k^* B_k = \\circ_{i!= k} U_i^T U_i}\n",
        "$$\n",
        "Apply Cholesky\n",
        "$$\n",
        "\\mathbf{L_k^* L_k X = B_k^*T_k}\n",
        "$$\n",
        "$$\n",
        "\\mathbf{L_k^* X = L_k^{-1} B_k^*T_k}\n",
        "$$\n",
        "And then find X\n",
        "\n",
        "In my code we try to calculate fast $U_n^T U_n$ , $\\circ_{i= n-1, n} U_i^T U_i \\ldots$ and next adamar products older than k (BB)\\\n",
        "Values, which smaller than k we calculate in ad_product\\\n",
        "Analogious we calculate B in (B) and hr_product"
      ],
      "metadata": {
        "id": "oZT0u231Di93"
      }
    },
    {
      "cell_type": "code",
      "execution_count": 1,
      "metadata": {
        "id": "-yAxtgXK847s"
      },
      "outputs": [],
      "source": [
        "import numpy as np\n",
        "from scipy import linalg as lg\n",
        "import time"
      ]
    },
    {
      "cell_type": "code",
      "source": [
        "def ALS(tensor, rank, seed=42, tol = 10**(-8), n_iteration = 100):\n",
        "\n",
        "    dimensions = tensor.shape\n",
        "    len_dim = len(dimensions)\n",
        "\n",
        "    rng = np.random.RandomState(seed)\n",
        "    factors = np.array([rng.rand(dimensions[i], rank) for i in range(len_dim)], dtype=object)\n",
        "\n",
        "    eps = 1.0\n",
        "    it = 0\n",
        "\n",
        "    while eps > tol and it < n_iteration:\n",
        "\n",
        "        eps = 0.0\n",
        "\n",
        "        BB = [factors[len_dim - 1].T @ factors[len_dim - 1]]\n",
        "        B = [factors[len_dim - 1]]\n",
        "        for i in range(1, len_dim - 1):\n",
        "            BB.append((factors[len_dim - 1 - i].T @ factors[len_dim - 1 - i]) * BB[i - 1]) #len_dim - 1\n",
        "            B.append(lg.khatri_rao(factors[len_dim - 1 - i], B[i - 1]))\n",
        "\n",
        "        ad_prod = np.ones((rank, rank))\n",
        "        hr_prod = np.ones((1, rank))\n",
        "\n",
        "        permutat = np.arange(1, len_dim)\n",
        "        permutat = np.append(permutat, 0)\n",
        "\n",
        "        for i in range(len_dim):\n",
        "\n",
        "            if i != 0 and i != len_dim - 1:\n",
        "                BB_i = ad_prod * BB[len_dim - 2 - i]\n",
        "                B_i = lg.khatri_rao(hr_prod, B[len_dim - 2 - i]).T\n",
        "            elif i == 0:\n",
        "                BB_i = BB[len_dim - 2]\n",
        "                B_i = B[len_dim - 2].T\n",
        "            else:\n",
        "                BB_i = ad_prod\n",
        "                B_i = hr_prod.T\n",
        "\n",
        "            L = lg.cholesky(BB_i, lower=True)\n",
        "\n",
        "            B_i = lg.inv(L) @ B_i @ np.transpose(tensor, permutat).reshape(-1, dimensions[i])\n",
        "\n",
        "            new_factor = (lg.solve_triangular(L.T, B_i, lower=False)).T\n",
        "\n",
        "            eps = max(eps, np.linalg.norm(new_factor - factors[i]) / np.linalg.norm(factors[i]))\n",
        "\n",
        "            hr_prod = lg.khatri_rao(hr_prod, new_factor)\n",
        "            ad_prod *= new_factor.T @ new_factor\n",
        "\n",
        "            factors[i] = new_factor\n",
        "\n",
        "            permutat[i], permutat[-1] = permutat[-1], permutat[i]\n",
        "\n",
        "        it += 1\n",
        "\n",
        "\n",
        "    return factors, it"
      ],
      "metadata": {
        "id": "RTXaOK5KBB_b"
      },
      "execution_count": 27,
      "outputs": []
    },
    {
      "cell_type": "markdown",
      "source": [
        "# Create Tensor"
      ],
      "metadata": {
        "id": "cCAAOZMKBI0m"
      }
    },
    {
      "cell_type": "code",
      "source": [
        "sizes = np.array((10, 20, 30, 40))\n",
        "T = np.zeros(sizes)\n",
        "for i in range(sizes[0]):\n",
        "    for j in range(sizes[1]):\n",
        "        for k in range(sizes[2]):\n",
        "            for l in range(sizes[3]):\n",
        "                T[i, j, k] = np.sin(i + j + k + l)"
      ],
      "metadata": {
        "id": "tktBcuCUBNcN"
      },
      "execution_count": 28,
      "outputs": []
    },
    {
      "cell_type": "markdown",
      "source": [
        "# Run ALS"
      ],
      "metadata": {
        "id": "nvtiMs-bBPgN"
      }
    },
    {
      "cell_type": "code",
      "source": [
        "rank = 3\n",
        "start_time = time.time()\n",
        "factors, it = ALS(T, rank)\n",
        "print(time.time() - start_time)"
      ],
      "metadata": {
        "colab": {
          "base_uri": "https://localhost:8080/"
        },
        "id": "MYnB8y3mBN03",
        "outputId": "4245e537-4d39-4b4b-e9cc-97b922d9b10d"
      },
      "execution_count": 29,
      "outputs": [
        {
          "output_type": "stream",
          "name": "stdout",
          "text": [
            "0.8978183269500732\n"
          ]
        }
      ]
    },
    {
      "cell_type": "code",
      "source": [
        "len_dim = len(sizes)\n",
        "sweep_l = np.ones(rank).reshape(1, -1)\n",
        "\n",
        "for j in range(len_dim):\n",
        "    sweep_l = lg.khatri_rao(sweep_l, factors[j])\n",
        "\n",
        "print(np.linalg.norm(np.sum(sweep_l, axis=1) - T.reshape(-1,)) / np.linalg.norm(T.reshape(-1,)))"
      ],
      "metadata": {
        "colab": {
          "base_uri": "https://localhost:8080/"
        },
        "id": "iIfol7o8BUgH",
        "outputId": "7314d07d-a572-46b9-bfa9-332c90ff3dd8"
      },
      "execution_count": 30,
      "outputs": [
        {
          "output_type": "stream",
          "name": "stdout",
          "text": [
            "5.351167627766157e-09\n"
          ]
        }
      ]
    },
    {
      "cell_type": "code",
      "source": [],
      "metadata": {
        "id": "jdBEgZ7eAdW-"
      },
      "execution_count": null,
      "outputs": []
    }
  ]
}