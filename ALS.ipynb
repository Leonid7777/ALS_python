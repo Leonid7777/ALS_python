{
  "cells": [
    {
      "cell_type": "code",
      "execution_count": 242,
      "metadata": {
        "id": "XXPPwNg7gYBa"
      },
      "outputs": [],
      "source": [
        "import numpy as np\n",
        "from scipy import linalg as lg"
      ]
    },
    {
      "cell_type": "markdown",
      "metadata": {
        "id": "0t0mpzuoildC"
      },
      "source": [
        "# ALS"
      ]
    },
    {
      "cell_type": "code",
      "execution_count": 332,
      "metadata": {
        "id": "Bwu_wN5AiZjP"
      },
      "outputs": [],
      "source": [
        "def ALS(tensor, dimensions, rank):\n",
        "    len_dim = len(dimensions)\n",
        "\n",
        "    factors = np.array([np.random.rand(dimensions[i], rank) for i in range(len_dim)], dtype=object)\n",
        "\n",
        "    eps = 1.0\n",
        "    it = 0\n",
        "\n",
        "    while eps > 10**(-14) and it < 100:\n",
        "\n",
        "        eps = 0.0\n",
        "\n",
        "        for i in range(len_dim):\n",
        "\n",
        "            t = np.arange(i)\n",
        "            t = np.append(t, np.arange(i+1, len_dim))\n",
        "            t = np.append(t, i)\n",
        "\n",
        "            sweep_l = np.ones(rank).reshape(1, -1)\n",
        "\n",
        "            for j in range(len_dim):\n",
        "                if j != i:\n",
        "                    sweep_l = lg.khatri_rao(sweep_l, factors[j])\n",
        "\n",
        "            sweep_r = np.transpose(tensor, t).reshape(-1, dimensions[i])\n",
        "\n",
        "            old_factor = factors[i]\n",
        "\n",
        "            factors[i] = np.linalg.lstsq(sweep_l, sweep_r, rcond=None)[0].T\n",
        "\n",
        "            eps = max(eps, np.linalg.norm(old_factor - factors[i]) / np.linalg.norm(old_factor))\n",
        "\n",
        "        it += 1\n",
        "\n",
        "    return factors, it"
      ]
    },
    {
      "cell_type": "markdown",
      "metadata": {
        "id": "IClP4qgVieAS"
      },
      "source": [
        "# Create Tensor"
      ]
    },
    {
      "cell_type": "code",
      "execution_count": 336,
      "metadata": {
        "id": "5tn6uKy4gbUs"
      },
      "outputs": [],
      "source": [
        "sizes = np.array((10, 10, 20))\n",
        "T = np.zeros(sizes)\n",
        "for i in range(sizes[0]):\n",
        "    for j in range(sizes[1]):\n",
        "        for k in range(sizes[2]):\n",
        "            T[i, j, k] = i + j + k"
      ]
    },
    {
      "cell_type": "markdown",
      "source": [
        "# Run ALS"
      ],
      "metadata": {
        "id": "I7OGG_218yH6"
      }
    },
    {
      "cell_type": "code",
      "execution_count": 341,
      "metadata": {
        "colab": {
          "base_uri": "https://localhost:8080/"
        },
        "id": "Hg9Xx4n5gnL4",
        "outputId": "58c89aea-04c1-4d22-f1da-f19e464c825d"
      },
      "outputs": [
        {
          "output_type": "stream",
          "name": "stdout",
          "text": [
            "100\n"
          ]
        }
      ],
      "source": [
        "rank = 10\n",
        "factors, it = ALS(T, sizes, rank)\n",
        "print(it)"
      ]
    },
    {
      "cell_type": "code",
      "source": [
        "len_dim = len(sizes)\n",
        "sweep_l = np.ones(rank).reshape(1, -1)\n",
        "\n",
        "for j in range(len_dim):\n",
        "    sweep_l = lg.khatri_rao(sweep_l, factors[j])\n",
        "\n",
        "print(np.linalg.norm(np.sum(sweep_l, axis=1) - T.reshape(-1,)) / np.linalg.norm(T.reshape(-1,)))"
      ],
      "metadata": {
        "colab": {
          "base_uri": "https://localhost:8080/"
        },
        "id": "Ay74NONV5Hw0",
        "outputId": "6a3c0585-fbec-4b69-e56a-6e8503aec087"
      },
      "execution_count": 342,
      "outputs": [
        {
          "output_type": "stream",
          "name": "stdout",
          "text": [
            "1.0372205245016462e-15\n"
          ]
        }
      ]
    },
    {
      "cell_type": "code",
      "source": [],
      "metadata": {
        "id": "WK0dchXL9gyU"
      },
      "execution_count": null,
      "outputs": []
    }
  ],
  "metadata": {
    "colab": {
      "provenance": []
    },
    "kernelspec": {
      "display_name": "Python 3",
      "name": "python3"
    },
    "language_info": {
      "name": "python"
    }
  },
  "nbformat": 4,
  "nbformat_minor": 0
}